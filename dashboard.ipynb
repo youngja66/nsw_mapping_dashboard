{
 "cells": [
  {
   "cell_type": "markdown",
   "id": "c62ebab3",
   "metadata": {},
   "source": [
    "# NSW Interactive Mapping Dashboard\n",
    "\n",
    "This dashboard provides interactive visualization of NSW government open data including demographics, crime statistics, transport data, and regional boundaries.\n",
    "\n",
    "**Features:**\n",
    "- Interactive choropleth maps of NSW Local Government Areas\n",
    "- Real-time data filtering and updates\n",
    "- Multiple demographic and statistical indicators\n",
    "- Clickable regions with detailed information\n",
    "- Responsive design with data tables and statistics"
   ]
  },
  {
   "cell_type": "code",
   "execution_count": null,
   "id": "a9bde839",
   "metadata": {
    "vscode": {
     "languageId": "plaintext"
    }
   },
   "outputs": [],
   "source": [
    "# Import required libraries\n",
    "import ipyleaflet\n",
    "from ipyleaflet import Map, GeoJSON, Choropleth, LayersControl, FullScreenControl\n",
    "from ipywidgets import (\n",
    "    VBox, HBox, Dropdown, IntSlider, SelectMultiple,\n",
    "    Button, Output, HTML, Layout, GridspecLayout\n",
    ")\n",
    "import geopandas as gpd\n",
    "import pandas as pd\n",
    "import numpy as np\n",
    "import json\n",
    "import requests\n",
    "from datetime import datetime\n",
    "from shapely.geometry import Point\n",
    "import warnings\n",
    "warnings.filterwarnings('ignore')\n",
    "\n",
    "print(\"✅ Libraries imported successfully!\")\n",
    "print(f\"📍 ipyleaflet version: {ipyleaflet.__version__}\")"
   ]
  },
  {
   "cell_type": "code",
   "execution_count": null,
   "id": "29b83e52",
   "metadata": {
    "vscode": {
     "languageId": "plaintext"
    }
   },
   "outputs": [],
   "source": [
    "# Import the dashboard class\n",
    "try:\n",
    "    from nsw_dashboard import NSWMappingDashboard\n",
    "    print(\"✅ Dashboard class imported successfully!\")\n",
    "except ImportError:\n",
    "    print(\"⚠️ Could not import dashboard class. Running inline version...\")\n",
    "\n",
    "    # Inline version of the dashboard class for standalone notebook\n",
    "    exec(open('nsw_dashboard.py').read())\n",
    "    print(\"✅ Dashboard class loaded inline!\")"
   ]
  },
  {
   "cell_type": "code",
   "execution_count": null,
   "id": "af479a11",
   "metadata": {
    "vscode": {
     "languageId": "plaintext"
    }
   },
   "outputs": [],
   "source": [
    "# Create and initialize the dashboard\n",
    "print(\"🚀 Initializing NSW Mapping Dashboard...\")\n",
    "print(\"📊 Loading NSW boundary data and demographic information...\")\n",
    "print(\"🗺️ Setting up interactive map components...\")\n",
    "\n",
    "dashboard = NSWMappingDashboard()\n",
    "\n",
    "print(\"✅ Dashboard initialization complete!\")\n",
    "print(\"🎯 Use the controls on the left to explore different metrics\")\n",
    "print(\"🖱️ Click on regions in the map to see detailed information\")"
   ]
  },
  {
   "cell_type": "code",
   "execution_count": null,
   "id": "c4d14c1c",
   "metadata": {
    "vscode": {
     "languageId": "plaintext"
    }
   },
   "outputs": [],
   "source": [
    "# Display the complete dashboard\n",
    "dashboard.display()"
   ]
  },
  {
   "cell_type": "code",
   "execution_count": null,
   "id": "2a4b0905",
   "metadata": {
    "vscode": {
     "languageId": "plaintext"
    }
   },
   "outputs": [],
   "source": [
    "## How to Use This Dashboard\n",
    "\n",
    "### 🎛️ Controls Panel (Left Side)\n",
    "- **Metric Dropdown**: Select different data indicators (Population, Income, Unemployment, etc.)\n",
    "- **Year Slider**: Adjust the time period (simulated data for 2020-2025)\n",
    "- **Region Filter**: Select specific Local Government Areas to focus on\n",
    "- **Update Button**: Refresh the visualization with current settings\n",
    "\n",
    "### 🗺️ Interactive Map (Center)\n",
    "- **Color Coding**: Regions are colored based on the selected metric\n",
    "- **Click Interaction**: Click on any region to see detailed statistics\n",
    "- **Map Controls**: Use the fullscreen button and layer controls\n",
    "- **Navigation**: Zoom and pan to explore different areas\n",
    "\n",
    "### 📊 Data Table (Right Side)\n",
    "- **Top 20 Regions**: Shows the highest values for the selected metric\n",
    "- **Sortable**: Data is automatically sorted by the current metric\n",
    "- **Scrollable**: Use the scroll bar to see all data\n",
    "- **Filtered**: Reflects your region filter selections\n",
    "\n",
    "### 📈 Statistics Bar (Top)\n",
    "- **Summary Stats**: Mean, median, minimum, and maximum values\n",
    "- **Dynamic Updates**: Changes based on your metric and filter selections\n",
    "- **Context Info**: Shows current year and number of regions selected\n",
    "\n",
    "## Data Sources\n",
    "\n",
    "This dashboard uses publicly available NSW government data:\n",
    "\n",
    "- **Boundaries**: NSW Local Government Area boundaries from data.nsw.gov.au\n",
    "- **Demographics**: Population and socioeconomic indicators\n",
    "- **Crime Statistics**: Regional crime rates from NSW Bureau of Crime Statistics and Research\n",
    "- **Transport Data**: Available through Transport NSW Open Data Hub\n",
    "- **Health Statistics**: HealthStats NSW indicators\n",
    "\n",
    "## Technical Implementation\n",
    "\n",
    "Built with:\n",
    "- **Python 3.10+** for data processing\n",
    "- **ipyleaflet** for interactive mapping\n",
    "- **ipywidgets** for dashboard controls\n",
    "- **GeoPandas** for spatial data handling\n",
    "- **Voila** for web deployment\n",
    "- **Binder** for cloud hosting\n",
    "\n",
    "## Extending the Dashboard\n",
    "\n",
    "To add new data sources or metrics:\n",
    "\n",
    "1. **Add new data**: Modify the `create_sample_demographics()` method\n",
    "2. **Update dropdown**: Add new options to `metric_dropdown`\n",
    "3. **Handle new metrics**: Ensure proper formatting in display functions\n",
    "4. **Real data integration**: Use the `NSWDataLoader` class for live data\n",
    "\n",
    "---\n",
    "\n",
    "*This dashboard demonstrates the power of combining Python geospatial libraries with interactive widgets to create powerful data visualization tools that can be deployed anywhere without installation requirements.*"
   ]
  }
 ],
 "metadata": {
  "language_info": {
   "name": "python"
  }
 },
 "nbformat": 4,
 "nbformat_minor": 5
}
